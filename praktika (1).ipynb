{
 "cells": [
  {
   "cell_type": "code",
   "execution_count": 1,
   "metadata": {
    "_cell_guid": "b1076dfc-b9ad-4769-8c92-a6c4dae69d19",
    "_uuid": "8f2839f25d086af736a60e9eeb907d3b93b6e0e5",
    "execution": {
     "iopub.execute_input": "2020-11-29T16:02:25.493127Z",
     "iopub.status.busy": "2020-11-29T16:02:25.492337Z",
     "iopub.status.idle": "2020-11-29T16:02:26.789058Z",
     "shell.execute_reply": "2020-11-29T16:02:26.788336Z"
    },
    "papermill": {
     "duration": 1.337752,
     "end_time": "2020-11-29T16:02:26.789212",
     "exception": false,
     "start_time": "2020-11-29T16:02:25.451460",
     "status": "completed"
    },
    "tags": []
   },
   "outputs": [],
   "source": [
    "import numpy as np # linear algebra\n",
    "import pandas as pd # data processing, CSV file I/O (e.g. pd.read_csv)\n",
    "import matplotlib.pyplot as plt\n",
    "import seaborn as sns\n",
    "import os"
   ]
  },
  {
   "cell_type": "code",
   "execution_count": 2,
   "metadata": {
    "_cell_guid": "79c7e3d0-c299-4dcb-8224-4455121ee9b0",
    "_uuid": "d629ff2d2480ee46fbb7e2d37f6b5fab8052498a",
    "execution": {
     "iopub.execute_input": "2020-11-29T16:02:26.863941Z",
     "iopub.status.busy": "2020-11-29T16:02:26.862811Z",
     "iopub.status.idle": "2020-11-29T16:02:26.905851Z",
     "shell.execute_reply": "2020-11-29T16:02:26.906471Z"
    },
    "papermill": {
     "duration": 0.084027,
     "end_time": "2020-11-29T16:02:26.906629",
     "exception": false,
     "start_time": "2020-11-29T16:02:26.822602",
     "status": "completed"
    },
    "tags": []
   },
   "outputs": [
    {
     "data": {
      "text/html": [
       "<div>\n",
       "<style scoped>\n",
       "    .dataframe tbody tr th:only-of-type {\n",
       "        vertical-align: middle;\n",
       "    }\n",
       "\n",
       "    .dataframe tbody tr th {\n",
       "        vertical-align: top;\n",
       "    }\n",
       "\n",
       "    .dataframe thead th {\n",
       "        text-align: right;\n",
       "    }\n",
       "</style>\n",
       "<table border=\"1\" class=\"dataframe\">\n",
       "  <thead>\n",
       "    <tr style=\"text-align: right;\">\n",
       "      <th></th>\n",
       "      <th>PassengerId</th>\n",
       "      <th>Survived</th>\n",
       "      <th>Pclass</th>\n",
       "      <th>Name</th>\n",
       "      <th>Sex</th>\n",
       "      <th>Age</th>\n",
       "      <th>SibSp</th>\n",
       "      <th>Parch</th>\n",
       "      <th>Ticket</th>\n",
       "      <th>Fare</th>\n",
       "      <th>Cabin</th>\n",
       "      <th>Embarked</th>\n",
       "    </tr>\n",
       "  </thead>\n",
       "  <tbody>\n",
       "    <tr>\n",
       "      <th>0</th>\n",
       "      <td>1</td>\n",
       "      <td>0</td>\n",
       "      <td>3</td>\n",
       "      <td>Braund, Mr. Owen Harris</td>\n",
       "      <td>male</td>\n",
       "      <td>22.0</td>\n",
       "      <td>1</td>\n",
       "      <td>0</td>\n",
       "      <td>A/5 21171</td>\n",
       "      <td>7.2500</td>\n",
       "      <td>NaN</td>\n",
       "      <td>S</td>\n",
       "    </tr>\n",
       "    <tr>\n",
       "      <th>1</th>\n",
       "      <td>2</td>\n",
       "      <td>1</td>\n",
       "      <td>1</td>\n",
       "      <td>Cumings, Mrs. John Bradley (Florence Briggs Th...</td>\n",
       "      <td>female</td>\n",
       "      <td>38.0</td>\n",
       "      <td>1</td>\n",
       "      <td>0</td>\n",
       "      <td>PC 17599</td>\n",
       "      <td>71.2833</td>\n",
       "      <td>C85</td>\n",
       "      <td>C</td>\n",
       "    </tr>\n",
       "    <tr>\n",
       "      <th>2</th>\n",
       "      <td>3</td>\n",
       "      <td>1</td>\n",
       "      <td>3</td>\n",
       "      <td>Heikkinen, Miss. Laina</td>\n",
       "      <td>female</td>\n",
       "      <td>26.0</td>\n",
       "      <td>0</td>\n",
       "      <td>0</td>\n",
       "      <td>STON/O2. 3101282</td>\n",
       "      <td>7.9250</td>\n",
       "      <td>NaN</td>\n",
       "      <td>S</td>\n",
       "    </tr>\n",
       "    <tr>\n",
       "      <th>3</th>\n",
       "      <td>4</td>\n",
       "      <td>1</td>\n",
       "      <td>1</td>\n",
       "      <td>Futrelle, Mrs. Jacques Heath (Lily May Peel)</td>\n",
       "      <td>female</td>\n",
       "      <td>35.0</td>\n",
       "      <td>1</td>\n",
       "      <td>0</td>\n",
       "      <td>113803</td>\n",
       "      <td>53.1000</td>\n",
       "      <td>C123</td>\n",
       "      <td>S</td>\n",
       "    </tr>\n",
       "    <tr>\n",
       "      <th>4</th>\n",
       "      <td>5</td>\n",
       "      <td>0</td>\n",
       "      <td>3</td>\n",
       "      <td>Allen, Mr. William Henry</td>\n",
       "      <td>male</td>\n",
       "      <td>35.0</td>\n",
       "      <td>0</td>\n",
       "      <td>0</td>\n",
       "      <td>373450</td>\n",
       "      <td>8.0500</td>\n",
       "      <td>NaN</td>\n",
       "      <td>S</td>\n",
       "    </tr>\n",
       "  </tbody>\n",
       "</table>\n",
       "</div>"
      ],
      "text/plain": [
       "   PassengerId  Survived  Pclass  \\\n",
       "0            1         0       3   \n",
       "1            2         1       1   \n",
       "2            3         1       3   \n",
       "3            4         1       1   \n",
       "4            5         0       3   \n",
       "\n",
       "                                                Name     Sex   Age  SibSp  \\\n",
       "0                            Braund, Mr. Owen Harris    male  22.0      1   \n",
       "1  Cumings, Mrs. John Bradley (Florence Briggs Th...  female  38.0      1   \n",
       "2                             Heikkinen, Miss. Laina  female  26.0      0   \n",
       "3       Futrelle, Mrs. Jacques Heath (Lily May Peel)  female  35.0      1   \n",
       "4                           Allen, Mr. William Henry    male  35.0      0   \n",
       "\n",
       "   Parch            Ticket     Fare Cabin Embarked  \n",
       "0      0         A/5 21171   7.2500   NaN        S  \n",
       "1      0          PC 17599  71.2833   C85        C  \n",
       "2      0  STON/O2. 3101282   7.9250   NaN        S  \n",
       "3      0            113803  53.1000  C123        S  \n",
       "4      0            373450   8.0500   NaN        S  "
      ]
     },
     "metadata": {},
     "output_type": "display_data"
    },
    {
     "name": "stdout",
     "output_type": "stream",
     "text": [
      "Shape of Data :  (891, 12)\n"
     ]
    }
   ],
   "source": [
    "data=pd.read_csv('../input/titanic/train.csv')\n",
    "# lets have a look on first few rows\n",
    "display(data.head())\n",
    "# Checking shape of our data set\n",
    "print('Shape of Data : ',data.shape)"
   ]
  },
  {
   "cell_type": "code",
   "execution_count": 3,
   "metadata": {
    "execution": {
     "iopub.execute_input": "2020-11-29T16:02:26.994003Z",
     "iopub.status.busy": "2020-11-29T16:02:26.992781Z",
     "iopub.status.idle": "2020-11-29T16:02:26.998009Z",
     "shell.execute_reply": "2020-11-29T16:02:26.998989Z"
    },
    "papermill": {
     "duration": 0.055435,
     "end_time": "2020-11-29T16:02:26.999230",
     "exception": false,
     "start_time": "2020-11-29T16:02:26.943795",
     "status": "completed"
    },
    "tags": []
   },
   "outputs": [
    {
     "data": {
      "text/plain": [
       "PassengerId      0\n",
       "Survived         0\n",
       "Pclass           0\n",
       "Name             0\n",
       "Sex              0\n",
       "Age            177\n",
       "SibSp            0\n",
       "Parch            0\n",
       "Ticket           0\n",
       "Fare             0\n",
       "Cabin          687\n",
       "Embarked         2\n",
       "dtype: int64"
      ]
     },
     "execution_count": 3,
     "metadata": {},
     "output_type": "execute_result"
    }
   ],
   "source": [
    "data.isnull().sum()"
   ]
  },
  {
   "cell_type": "code",
   "execution_count": 4,
   "metadata": {
    "execution": {
     "iopub.execute_input": "2020-11-29T16:02:27.108478Z",
     "iopub.status.busy": "2020-11-29T16:02:27.107651Z",
     "iopub.status.idle": "2020-11-29T16:02:27.393207Z",
     "shell.execute_reply": "2020-11-29T16:02:27.392471Z"
    },
    "papermill": {
     "duration": 0.342409,
     "end_time": "2020-11-29T16:02:27.393338",
     "exception": false,
     "start_time": "2020-11-29T16:02:27.050929",
     "status": "completed"
    },
    "tags": []
   },
   "outputs": [
    {
     "data": {
      "image/png": "[encoded data removed]",
      "text/plain": [
       "<Figure size 936x360 with 2 Axes>"
      ]
     },
     "metadata": {
      "needs_background": "light"
     },
     "output_type": "display_data"
    }
   ],
   "source": [
    "f,ax=plt.subplots(1,2,figsize=(13,5))\n",
    "data['Survived'].value_counts().plot.pie(explode=[0,0.05],autopct='%1.1f%%',ax=ax[0],shadow=True)\n",
    "ax[0].set_title('Survived')\n",
    "ax[0].set_ylabel('')\n",
    "sns.countplot('Survived',data=data,ax=ax[1])\n",
    "ax[1].set_title('Survived')\n",
    "plt.show()"
   ]
  },
  {
   "cell_type": "code",
   "execution_count": 5,
   "metadata": {
    "execution": {
     "iopub.execute_input": "2020-11-29T16:02:27.482774Z",
     "iopub.status.busy": "2020-11-29T16:02:27.475809Z",
     "iopub.status.idle": "2020-11-29T16:02:27.987008Z",
     "shell.execute_reply": "2020-11-29T16:02:27.987568Z"
    },
    "papermill": {
     "duration": 0.558711,
     "end_time": "2020-11-29T16:02:27.987738",
     "exception": false,
     "start_time": "2020-11-29T16:02:27.429027",
     "status": "completed"
    },
    "tags": []
   },
   "outputs": [
    {
     "data": {
      "image/png": "[encoded data removed]",
      "text/plain": [
       "<Figure size 1296x360 with 3 Axes>"
      ]
     },
     "metadata": {
      "needs_background": "light"
     },
     "output_type": "display_data"
    }
   ],
   "source": [
    "f,ax=plt.subplots(1,3,figsize=(18,5))\n",
    "data[['Sex','Survived']].groupby(['Sex']).mean().plot.bar(ax=ax[0])\n",
    "ax[0].set_title('Fraction of Survival with respect to Sex')\n",
    "sns.countplot('Sex',hue='Survived',data=data,ax=ax[1])\n",
    "ax[1].set_title('Survived vs Dead counts with respect to Sex')\n",
    "sns.barplot(x=\"Sex\", y=\"Survived\", data=data,ax=ax[2])\n",
    "ax[2].set_title('Survival by Gender')\n",
    "plt.show()"
   ]
  },
  {
   "cell_type": "code",
   "execution_count": 6,
   "metadata": {
    "execution": {
     "iopub.execute_input": "2020-11-29T16:02:28.084214Z",
     "iopub.status.busy": "2020-11-29T16:02:28.075013Z",
     "iopub.status.idle": "2020-11-29T16:02:28.710328Z",
     "shell.execute_reply": "2020-11-29T16:02:28.709603Z"
    },
    "papermill": {
     "duration": 0.684094,
     "end_time": "2020-11-29T16:02:28.710472",
     "exception": false,
     "start_time": "2020-11-29T16:02:28.026378",
     "status": "completed"
    },
    "tags": []
   },
   "outputs": [
    {
     "data": {
      "image/png": "[encoded data removed]",
      "text/plain": [
       "<Figure size 1296x360 with 3 Axes>"
      ]
     },
     "metadata": {
      "needs_background": "light"
     },
     "output_type": "display_data"
    }
   ],
   "source": [
    "f,ax=plt.subplots(1,3,figsize=(18,5))\n",
    "data['Pclass'].value_counts().plot.bar(color=['#BC8F8F','#F4A460','#DAA520'],ax=ax[0])\n",
    "ax[0].set_title('Number Of Passengers with respect to Pclass')\n",
    "ax[0].set_ylabel('Count')\n",
    "sns.countplot('Pclass',hue='Survived',data=data,ax=ax[1])\n",
    "ax[1].set_title('Survived vs Dead counts with respect to Pclass')\n",
    "sns.barplot(x=\"Pclass\", y=\"Survived\", data=data,ax=ax[2])\n",
    "ax[2].set_title('Survival by Pclass')\n",
    "plt.show()\n"
   ]
  },
  {
   "cell_type": "code",
   "execution_count": 7,
   "metadata": {
    "execution": {
     "iopub.execute_input": "2020-11-29T16:02:28.795248Z",
     "iopub.status.busy": "2020-11-29T16:02:28.793716Z",
     "iopub.status.idle": "2020-11-29T16:02:29.828861Z",
     "shell.execute_reply": "2020-11-29T16:02:29.828221Z"
    },
    "papermill": {
     "duration": 1.079923,
     "end_time": "2020-11-29T16:02:29.829013",
     "exception": false,
     "start_time": "2020-11-29T16:02:28.749090",
     "status": "completed"
    },
    "tags": []
   },
   "outputs": [
    {
     "data": {
      "image/png": "[encoded data removed]",
      "text/plain": [
       "<Figure size 1800x432 with 1 Axes>"
      ]
     },
     "metadata": {
      "needs_background": "light"
     },
     "output_type": "display_data"
    }
   ],
   "source": [
    "# Plot\n",
    "plt.figure(figsize=(25,6))\n",
    "sns.barplot(data['Age'],data['Survived'], ci=None)\n",
    "plt.xticks(rotation=90);"
   ]
  },
  {
   "cell_type": "code",
   "execution_count": 8,
   "metadata": {
    "execution": {
     "iopub.execute_input": "2020-11-29T16:02:29.921577Z",
     "iopub.status.busy": "2020-11-29T16:02:29.920707Z",
     "iopub.status.idle": "2020-11-29T16:02:30.212657Z",
     "shell.execute_reply": "2020-11-29T16:02:30.211882Z"
    },
    "papermill": {
     "duration": 0.343877,
     "end_time": "2020-11-29T16:02:30.212789",
     "exception": false,
     "start_time": "2020-11-29T16:02:29.868912",
     "status": "completed"
    },
    "tags": []
   },
   "outputs": [
    {
     "data": {
      "text/html": [
       "<style  type=\"text/css\" >\n",
       "#T_48a37fdc_325c_11eb_af9f_0242ac130202row0_col0,#T_48a37fdc_325c_11eb_af9f_0242ac130202row0_col1,#T_48a37fdc_325c_11eb_af9f_0242ac130202row0_col3,#T_48a37fdc_325c_11eb_af9f_0242ac130202row0_col4,#T_48a37fdc_325c_11eb_af9f_0242ac130202row0_col5,#T_48a37fdc_325c_11eb_af9f_0242ac130202row0_col7,#T_48a37fdc_325c_11eb_af9f_0242ac130202row0_col8,#T_48a37fdc_325c_11eb_af9f_0242ac130202row0_col12,#T_48a37fdc_325c_11eb_af9f_0242ac130202row0_col15,#T_48a37fdc_325c_11eb_af9f_0242ac130202row0_col16,#T_48a37fdc_325c_11eb_af9f_0242ac130202row1_col2,#T_48a37fdc_325c_11eb_af9f_0242ac130202row1_col6,#T_48a37fdc_325c_11eb_af9f_0242ac130202row1_col9,#T_48a37fdc_325c_11eb_af9f_0242ac130202row1_col10,#T_48a37fdc_325c_11eb_af9f_0242ac130202row1_col11,#T_48a37fdc_325c_11eb_af9f_0242ac130202row1_col13,#T_48a37fdc_325c_11eb_af9f_0242ac130202row1_col14{\n",
       "            background-color:  #ffff66;\n",
       "            color:  #000000;\n",
       "        }#T_48a37fdc_325c_11eb_af9f_0242ac130202row0_col2,#T_48a37fdc_325c_11eb_af9f_0242ac130202row0_col6,#T_48a37fdc_325c_11eb_af9f_0242ac130202row0_col9,#T_48a37fdc_325c_11eb_af9f_0242ac130202row0_col10,#T_48a37fdc_325c_11eb_af9f_0242ac130202row0_col11,#T_48a37fdc_325c_11eb_af9f_0242ac130202row0_col13,#T_48a37fdc_325c_11eb_af9f_0242ac130202row0_col14,#T_48a37fdc_325c_11eb_af9f_0242ac130202row1_col0,#T_48a37fdc_325c_11eb_af9f_0242ac130202row1_col1,#T_48a37fdc_325c_11eb_af9f_0242ac130202row1_col3,#T_48a37fdc_325c_11eb_af9f_0242ac130202row1_col4,#T_48a37fdc_325c_11eb_af9f_0242ac130202row1_col5,#T_48a37fdc_325c_11eb_af9f_0242ac130202row1_col7,#T_48a37fdc_325c_11eb_af9f_0242ac130202row1_col8,#T_48a37fdc_325c_11eb_af9f_0242ac130202row1_col12,#T_48a37fdc_325c_11eb_af9f_0242ac130202row1_col15,#T_48a37fdc_325c_11eb_af9f_0242ac130202row1_col16{\n",
       "            background-color:  #008066;\n",
       "            color:  #f1f1f1;\n",
       "        }</style><table id=\"T_48a37fdc_325c_11eb_af9f_0242ac130202\" ><thead>    <tr>        <th class=\"index_name level0\" >Initial</th>        <th class=\"col_heading level0 col0\" >Capt</th>        <th class=\"col_heading level0 col1\" >Col</th>        <th class=\"col_heading level0 col2\" >Countess</th>        <th class=\"col_heading level0 col3\" >Don</th>        <th class=\"col_heading level0 col4\" >Dr</th>        <th class=\"col_heading level0 col5\" >Jonkheer</th>        <th class=\"col_heading level0 col6\" >Lady</th>        <th class=\"col_heading level0 col7\" >Major</th>        <th class=\"col_heading level0 col8\" >Master</th>        <th class=\"col_heading level0 col9\" >Miss</th>        <th class=\"col_heading level0 col10\" >Mlle</th>        <th class=\"col_heading level0 col11\" >Mme</th>        <th class=\"col_heading level0 col12\" >Mr</th>        <th class=\"col_heading level0 col13\" >Mrs</th>        <th class=\"col_heading level0 col14\" >Ms</th>        <th class=\"col_heading level0 col15\" >Rev</th>        <th class=\"col_heading level0 col16\" >Sir</th>    </tr>    <tr>        <th class=\"index_name level0\" >Sex</th>        <th class=\"blank\" ></th>        <th class=\"blank\" ></th>        <th class=\"blank\" ></th>        <th class=\"blank\" ></th>        <th class=\"blank\" ></th>        <th class=\"blank\" ></th>        <th class=\"blank\" ></th>        <th class=\"blank\" ></th>        <th class=\"blank\" ></th>        <th class=\"blank\" ></th>        <th class=\"blank\" ></th>        <th class=\"blank\" ></th>        <th class=\"blank\" ></th>        <th class=\"blank\" ></th>        <th class=\"blank\" ></th>        <th class=\"blank\" ></th>        <th class=\"blank\" ></th>    </tr></thead><tbody>\n",
       "                <tr>\n",
       "                        <th id=\"T_48a37fdc_325c_11eb_af9f_0242ac130202level0_row0\" class=\"row_heading level0 row0\" >female</th>\n",
       "                        <td id=\"T_48a37fdc_325c_11eb_af9f_0242ac130202row0_col0\" class=\"data row0 col0\" >0</td>\n",
       "                        <td id=\"T_48a37fdc_325c_11eb_af9f_0242ac130202row0_col1\" class=\"data row0 col1\" >0</td>\n",
       "                        <td id=\"T_48a37fdc_325c_11eb_af9f_0242ac130202row0_col2\" class=\"data row0 col2\" >1</td>\n",
       "                        <td id=\"T_48a37fdc_325c_11eb_af9f_0242ac130202row0_col3\" class=\"data row0 col3\" >0</td>\n",
       "                        <td id=\"T_48a37fdc_325c_11eb_af9f_0242ac130202row0_col4\" class=\"data row0 col4\" >1</td>\n",
       "                        <td id=\"T_48a37fdc_325c_11eb_af9f_0242ac130202row0_col5\" class=\"data row0 col5\" >0</td>\n",
       "                        <td id=\"T_48a37fdc_325c_11eb_af9f_0242ac130202row0_col6\" class=\"data row0 col6\" >1</td>\n",
       "                        <td id=\"T_48a37fdc_325c_11eb_af9f_0242ac130202row0_col7\" class=\"data row0 col7\" >0</td>\n",
       "                        <td id=\"T_48a37fdc_325c_11eb_af9f_0242ac130202row0_col8\" class=\"data row0 col8\" >0</td>\n",
       "                        <td id=\"T_48a37fdc_325c_11eb_af9f_0242ac130202row0_col9\" class=\"data row0 col9\" >182</td>\n",
       "                        <td id=\"T_48a37fdc_325c_11eb_af9f_0242ac130202row0_col10\" class=\"data row0 col10\" >2</td>\n",
       "                        <td id=\"T_48a37fdc_325c_11eb_af9f_0242ac130202row0_col11\" class=\"data row0 col11\" >1</td>\n",
       "                        <td id=\"T_48a37fdc_325c_11eb_af9f_0242ac130202row0_col12\" class=\"data row0 col12\" >0</td>\n",
       "                        <td id=\"T_48a37fdc_325c_11eb_af9f_0242ac130202row0_col13\" class=\"data row0 col13\" >125</td>\n",
       "                        <td id=\"T_48a37fdc_325c_11eb_af9f_0242ac130202row0_col14\" class=\"data row0 col14\" >1</td>\n",
       "                        <td id=\"T_48a37fdc_325c_11eb_af9f_0242ac130202row0_col15\" class=\"data row0 col15\" >0</td>\n",
       "                        <td id=\"T_48a37fdc_325c_11eb_af9f_0242ac130202row0_col16\" class=\"data row0 col16\" >0</td>\n",
       "            </tr>\n",
       "            <tr>\n",
       "                        <th id=\"T_48a37fdc_325c_11eb_af9f_0242ac130202level0_row1\" class=\"row_heading level0 row1\" >male</th>\n",
       "                        <td id=\"T_48a37fdc_325c_11eb_af9f_0242ac130202row1_col0\" class=\"data row1 col0\" >1</td>\n",
       "                        <td id=\"T_48a37fdc_325c_11eb_af9f_0242ac130202row1_col1\" class=\"data row1 col1\" >2</td>\n",
       "                        <td id=\"T_48a37fdc_325c_11eb_af9f_0242ac130202row1_col2\" class=\"data row1 col2\" >0</td>\n",
       "                        <td id=\"T_48a37fdc_325c_11eb_af9f_0242ac130202row1_col3\" class=\"data row1 col3\" >1</td>\n",
       "                        <td id=\"T_48a37fdc_325c_11eb_af9f_0242ac130202row1_col4\" class=\"data row1 col4\" >6</td>\n",
       "                        <td id=\"T_48a37fdc_325c_11eb_af9f_0242ac130202row1_col5\" class=\"data row1 col5\" >1</td>\n",
       "                        <td id=\"T_48a37fdc_325c_11eb_af9f_0242ac130202row1_col6\" class=\"data row1 col6\" >0</td>\n",
       "                        <td id=\"T_48a37fdc_325c_11eb_af9f_0242ac130202row1_col7\" class=\"data row1 col7\" >2</td>\n",
       "                        <td id=\"T_48a37fdc_325c_11eb_af9f_0242ac130202row1_col8\" class=\"data row1 col8\" >40</td>\n",
       "                        <td id=\"T_48a37fdc_325c_11eb_af9f_0242ac130202row1_col9\" class=\"data row1 col9\" >0</td>\n",
       "                        <td id=\"T_48a37fdc_325c_11eb_af9f_0242ac130202row1_col10\" class=\"data row1 col10\" >0</td>\n",
       "                        <td id=\"T_48a37fdc_325c_11eb_af9f_0242ac130202row1_col11\" class=\"data row1 col11\" >0</td>\n",
       "                        <td id=\"T_48a37fdc_325c_11eb_af9f_0242ac130202row1_col12\" class=\"data row1 col12\" >517</td>\n",
       "                        <td id=\"T_48a37fdc_325c_11eb_af9f_0242ac130202row1_col13\" class=\"data row1 col13\" >0</td>\n",
       "                        <td id=\"T_48a37fdc_325c_11eb_af9f_0242ac130202row1_col14\" class=\"data row1 col14\" >0</td>\n",
       "                        <td id=\"T_48a37fdc_325c_11eb_af9f_0242ac130202row1_col15\" class=\"data row1 col15\" >6</td>\n",
       "                        <td id=\"T_48a37fdc_325c_11eb_af9f_0242ac130202row1_col16\" class=\"data row1 col16\" >1</td>\n",
       "            </tr>\n",
       "    </tbody></table>"
      ],
      "text/plain": [
       "<pandas.io.formats.style.Styler at 0x7fefae6b3d50>"
      ]
     },
     "execution_count": 8,
     "metadata": {},
     "output_type": "execute_result"
    }
   ],
   "source": [
    "data['Initial']=0\n",
    "for i in data:\n",
    "    data['Initial']=data.Name.str.extract('([A-Za-z]+)\\.') #lets extract the Salutations\n",
    "\n",
    "pd.crosstab(data.Initial,data.Sex).T.style.background_gradient(cmap='summer_r') #Checking the Initials with the Sex"
   ]
  },
  {
   "cell_type": "code",
   "execution_count": 9,
   "metadata": {
    "execution": {
     "iopub.execute_input": "2020-11-29T16:02:30.306331Z",
     "iopub.status.busy": "2020-11-29T16:02:30.305269Z",
     "iopub.status.idle": "2020-11-29T16:02:30.310006Z",
     "shell.execute_reply": "2020-11-29T16:02:30.309322Z"
    },
    "papermill": {
     "duration": 0.056812,
     "end_time": "2020-11-29T16:02:30.310138",
     "exception": false,
     "start_time": "2020-11-29T16:02:30.253326",
     "status": "completed"
    },
    "tags": []
   },
   "outputs": [],
   "source": [
    "data['Initial'].replace(['Mlle','Mme','Ms','Dr','Major','Lady','Countess','Jonkheer','Col','Rev','Capt','Sir','Don'],['Miss','Miss','Miss','Mr','Mr','Mrs','Mrs','Other','Other','Other','Mr','Mr','Mr'],inplace=True)\n"
   ]
  },
  {
   "cell_type": "code",
   "execution_count": 10,
   "metadata": {
    "execution": {
     "iopub.execute_input": "2020-11-29T16:02:30.401880Z",
     "iopub.status.busy": "2020-11-29T16:02:30.399105Z",
     "iopub.status.idle": "2020-11-29T16:02:30.406192Z",
     "shell.execute_reply": "2020-11-29T16:02:30.405479Z"
    },
    "papermill": {
     "duration": 0.055549,
     "end_time": "2020-11-29T16:02:30.406319",
     "exception": false,
     "start_time": "2020-11-29T16:02:30.350770",
     "status": "completed"
    },
    "tags": []
   },
   "outputs": [
    {
     "data": {
      "text/plain": [
       "Initial\n",
       "Master     4.574167\n",
       "Miss      21.860000\n",
       "Mr        32.739609\n",
       "Mrs       35.981818\n",
       "Other     45.888889\n",
       "Name: Age, dtype: float64"
      ]
     },
     "execution_count": 10,
     "metadata": {},
     "output_type": "execute_result"
    }
   ],
   "source": [
    "data.groupby('Initial')['Age'].mean() #lets check the average age by Initials"
   ]
  },
  {
   "cell_type": "code",
   "execution_count": 11,
   "metadata": {
    "execution": {
     "iopub.execute_input": "2020-11-29T16:02:30.508989Z",
     "iopub.status.busy": "2020-11-29T16:02:30.499505Z",
     "iopub.status.idle": "2020-11-29T16:02:30.512516Z",
     "shell.execute_reply": "2020-11-29T16:02:30.511765Z"
    },
    "papermill": {
     "duration": 0.064217,
     "end_time": "2020-11-29T16:02:30.512641",
     "exception": false,
     "start_time": "2020-11-29T16:02:30.448424",
     "status": "completed"
    },
    "tags": []
   },
   "outputs": [],
   "source": [
    "## Assigning the NaN Values with the Ceil values of the mean ages\n",
    "data.loc[(data.Age.isnull())&(data.Initial=='Mr'),'Age']=33\n",
    "data.loc[(data.Age.isnull())&(data.Initial=='Mrs'),'Age']=36\n",
    "data.loc[(data.Age.isnull())&(data.Initial=='Master'),'Age']=5\n",
    "data.loc[(data.Age.isnull())&(data.Initial=='Miss'),'Age']=22\n",
    "data.loc[(data.Age.isnull())&(data.Initial=='Other'),'Age']=46"
   ]
  },
  {
   "cell_type": "code",
   "execution_count": 12,
   "metadata": {
    "execution": {
     "iopub.execute_input": "2020-11-29T16:02:30.603021Z",
     "iopub.status.busy": "2020-11-29T16:02:30.602207Z",
     "iopub.status.idle": "2020-11-29T16:02:30.606485Z",
     "shell.execute_reply": "2020-11-29T16:02:30.605799Z"
    },
    "papermill": {
     "duration": 0.052529,
     "end_time": "2020-11-29T16:02:30.606613",
     "exception": false,
     "start_time": "2020-11-29T16:02:30.554084",
     "status": "completed"
    },
    "tags": []
   },
   "outputs": [
    {
     "data": {
      "text/plain": [
       "False"
      ]
     },
     "execution_count": 12,
     "metadata": {},
     "output_type": "execute_result"
    }
   ],
   "source": [
    "data.Age.isnull().any()"
   ]
  },
  {
   "cell_type": "code",
   "execution_count": 13,
   "metadata": {
    "execution": {
     "iopub.execute_input": "2020-11-29T16:02:30.708279Z",
     "iopub.status.busy": "2020-11-29T16:02:30.707351Z",
     "iopub.status.idle": "2020-11-29T16:02:31.001463Z",
     "shell.execute_reply": "2020-11-29T16:02:31.000579Z"
    },
    "papermill": {
     "duration": 0.352568,
     "end_time": "2020-11-29T16:02:31.001599",
     "exception": false,
     "start_time": "2020-11-29T16:02:30.649031",
     "status": "completed"
    },
    "tags": []
   },
   "outputs": [
    {
     "data": {
      "image/png": "[encoded data removed]",
      "text/plain": [
       "<Figure size 864x360 with 2 Axes>"
      ]
     },
     "metadata": {
      "needs_background": "light"
     },
     "output_type": "display_data"
    }
   ],
   "source": [
    "f,ax=plt.subplots(1,2,figsize=(12,5))\n",
    "sns.countplot('Embarked',data=data,ax=ax[0])\n",
    "ax[0].set_title('No. Of Passengers Boarded')\n",
    "sns.countplot('Embarked',hue='Survived',data=data,ax=ax[1])\n",
    "ax[1].set_title('Embarked vs Survived')\n",
    "plt.subplots_adjust(wspace=0.2,hspace=0.5)\n",
    "plt.show()"
   ]
  },
  {
   "cell_type": "code",
   "execution_count": 14,
   "metadata": {
    "execution": {
     "iopub.execute_input": "2020-11-29T16:02:31.102793Z",
     "iopub.status.busy": "2020-11-29T16:02:31.101924Z",
     "iopub.status.idle": "2020-11-29T16:02:31.429167Z",
     "shell.execute_reply": "2020-11-29T16:02:31.429841Z"
    },
    "papermill": {
     "duration": 0.385127,
     "end_time": "2020-11-29T16:02:31.430008",
     "exception": false,
     "start_time": "2020-11-29T16:02:31.044881",
     "status": "completed"
    },
    "tags": []
   },
   "outputs": [
    {
     "data": {
      "image/png": "[encoded data removed]",
      "text/plain": [
       "<Figure size 864x360 with 2 Axes>"
      ]
     },
     "metadata": {
      "needs_background": "light"
     },
     "output_type": "display_data"
    }
   ],
   "source": [
    "f,ax=plt.subplots(1,2,figsize=(12,5))\n",
    "sns.countplot('Embarked',hue='Sex',data=data,ax=ax[0])\n",
    "ax[0].set_title('Male-Female Split for Embarked')\n",
    "sns.countplot('Embarked',hue='Pclass',data=data,ax=ax[1])\n",
    "ax[1].set_title('Embarked vs Pclass')\n",
    "plt.subplots_adjust(wspace=0.2,hspace=0.5)\n",
    "plt.show()"
   ]
  },
  {
   "cell_type": "code",
   "execution_count": 15,
   "metadata": {
    "execution": {
     "iopub.execute_input": "2020-11-29T16:02:31.534681Z",
     "iopub.status.busy": "2020-11-29T16:02:31.532586Z",
     "iopub.status.idle": "2020-11-29T16:02:31.598291Z",
     "shell.execute_reply": "2020-11-29T16:02:31.597542Z"
    },
    "papermill": {
     "duration": 0.123509,
     "end_time": "2020-11-29T16:02:31.598436",
     "exception": false,
     "start_time": "2020-11-29T16:02:31.474927",
     "status": "completed"
    },
    "tags": []
   },
   "outputs": [
    {
     "data": {
      "image/png": "[encoded data removed]",
      "text/plain": [
       "<Figure size 432x360 with 1 Axes>"
      ]
     },
     "metadata": {},
     "output_type": "display_data"
    }
   ],
   "source": [
    "f,ax=plt.subplots(1,1,figsize=(6,5))\n",
    "data['Embarked'].value_counts().plot.pie(explode=[0,0,0],autopct='%1.1f%%',ax=ax)\n",
    "plt.show()"
   ]
  },
  {
   "cell_type": "code",
   "execution_count": 16,
   "metadata": {
    "execution": {
     "iopub.execute_input": "2020-11-29T16:02:31.696629Z",
     "iopub.status.busy": "2020-11-29T16:02:31.695813Z",
     "iopub.status.idle": "2020-11-29T16:02:31.699619Z",
     "shell.execute_reply": "2020-11-29T16:02:31.699004Z"
    },
    "papermill": {
     "duration": 0.055448,
     "end_time": "2020-11-29T16:02:31.699743",
     "exception": false,
     "start_time": "2020-11-29T16:02:31.644295",
     "status": "completed"
    },
    "tags": []
   },
   "outputs": [],
   "source": [
    "data['Embarked'].fillna('S',inplace=True)"
   ]
  },
  {
   "cell_type": "code",
   "execution_count": 17,
   "metadata": {
    "execution": {
     "iopub.execute_input": "2020-11-29T16:02:31.809195Z",
     "iopub.status.busy": "2020-11-29T16:02:31.808143Z",
     "iopub.status.idle": "2020-11-29T16:02:33.113588Z",
     "shell.execute_reply": "2020-11-29T16:02:33.112881Z"
    },
    "papermill": {
     "duration": 1.368554,
     "end_time": "2020-11-29T16:02:33.113728",
     "exception": false,
     "start_time": "2020-11-29T16:02:31.745174",
     "status": "completed"
    },
    "tags": []
   },
   "outputs": [
    {
     "data": {
      "image/png": "[encoded data removed]",
      "text/plain": [
       "<Figure size 1080x720 with 4 Axes>"
      ]
     },
     "metadata": {
      "needs_background": "light"
     },
     "output_type": "display_data"
    }
   ],
   "source": [
    "f,ax=plt.subplots(2,2,figsize=(15,10))\n",
    "sns.countplot('SibSp',hue='Survived',data=data,ax=ax[0,0])\n",
    "ax[0,0].set_title('SibSp vs Survived')\n",
    "sns.barplot('SibSp','Survived',data=data,ax=ax[0,1])\n",
    "ax[0,1].set_title('SibSp vs Survived')\n",
    "\n",
    "sns.countplot('Parch',hue='Survived',data=data,ax=ax[1,0])\n",
    "ax[1,0].set_title('Parch vs Survived')\n",
    "sns.barplot('Parch','Survived',data=data,ax=ax[1,1])\n",
    "ax[1,1].set_title('Parch vs Survived')\n",
    "\n",
    "plt.subplots_adjust(wspace=0.2,hspace=0.5)\n",
    "plt.show()"
   ]
  },
  {
   "cell_type": "code",
   "execution_count": 18,
   "metadata": {
    "execution": {
     "iopub.execute_input": "2020-11-29T16:02:33.225473Z",
     "iopub.status.busy": "2020-11-29T16:02:33.223483Z",
     "iopub.status.idle": "2020-11-29T16:02:33.943532Z",
     "shell.execute_reply": "2020-11-29T16:02:33.942924Z"
    },
    "papermill": {
     "duration": 0.782429,
     "end_time": "2020-11-29T16:02:33.943678",
     "exception": false,
     "start_time": "2020-11-29T16:02:33.161249",
     "status": "completed"
    },
    "tags": []
   },
   "outputs": [
    {
     "data": {
      "image/png": "[encoded data removed]",
      "text/plain": [
       "<Figure size 1080x324 with 2 Axes>"
      ]
     },
     "metadata": {
      "needs_background": "light"
     },
     "output_type": "display_data"
    }
   ],
   "source": [
    "data['FamilySize'] = data['Parch'] + data['SibSp']\n",
    "f,ax=plt.subplots(1,2,figsize=(15,4.5))\n",
    "sns.countplot('FamilySize',hue='Survived',data=data,ax=ax[0])\n",
    "ax[0].set_title('FamilySize vs Survived')\n",
    "sns.barplot('FamilySize','Survived',data=data,ax=ax[1])\n",
    "ax[1].set_title('FamilySize vs Survived')\n",
    "plt.subplots_adjust(wspace=0.2,hspace=0.5)\n",
    "plt.show()"
   ]
  },
  {
   "cell_type": "code",
   "execution_count": 19,
   "metadata": {
    "execution": {
     "iopub.execute_input": "2020-11-29T16:02:34.069756Z",
     "iopub.status.busy": "2020-11-29T16:02:34.068651Z",
     "iopub.status.idle": "2020-11-29T16:02:34.396296Z",
     "shell.execute_reply": "2020-11-29T16:02:34.397117Z"
    },
    "papermill": {
     "duration": 0.397755,
     "end_time": "2020-11-29T16:02:34.397314",
     "exception": false,
     "start_time": "2020-11-29T16:02:33.999559",
     "status": "completed"
    },
    "tags": []
   },
   "outputs": [
    {
     "data": {
      "image/png": "[encoded data removed]",
      "text/plain": [
       "<Figure size 1440x360 with 1 Axes>"
      ]
     },
     "metadata": {
      "needs_background": "light"
     },
     "output_type": "display_data"
    }
   ],
   "source": [
    "f,ax=plt.subplots(1,1,figsize=(20,5))\n",
    "sns.distplot(data.Fare,ax=ax)\n",
    "ax.set_title('Distribution of Fares')\n",
    "plt.show()"
   ]
  },
  {
   "cell_type": "code",
   "execution_count": 20,
   "metadata": {
    "execution": {
     "iopub.execute_input": "2020-11-29T16:02:34.516571Z",
     "iopub.status.busy": "2020-11-29T16:02:34.515609Z",
     "iopub.status.idle": "2020-11-29T16:02:34.552428Z",
     "shell.execute_reply": "2020-11-29T16:02:34.551792Z"
    },
    "papermill": {
     "duration": 0.09901,
     "end_time": "2020-11-29T16:02:34.552566",
     "exception": false,
     "start_time": "2020-11-29T16:02:34.453556",
     "status": "completed"
    },
    "tags": []
   },
   "outputs": [
    {
     "name": "stdout",
     "output_type": "stream",
     "text": [
      "Highest Fare: 512.3292    Lowest Fare: 0.0     Average Fare: 32.2042079685746\n"
     ]
    },
    {
     "data": {
      "text/html": [
       "<style  type=\"text/css\" >\n",
       "#T_4b3a0090_325c_11eb_af9f_0242ac130202row0_col0{\n",
       "            background-color:  #f8fc66;\n",
       "            color:  #000000;\n",
       "        }#T_4b3a0090_325c_11eb_af9f_0242ac130202row1_col0{\n",
       "            background-color:  #ffff66;\n",
       "            color:  #000000;\n",
       "        }#T_4b3a0090_325c_11eb_af9f_0242ac130202row2_col0{\n",
       "            background-color:  #a7d366;\n",
       "            color:  #000000;\n",
       "        }#T_4b3a0090_325c_11eb_af9f_0242ac130202row3_col0{\n",
       "            background-color:  #84c266;\n",
       "            color:  #000000;\n",
       "        }#T_4b3a0090_325c_11eb_af9f_0242ac130202row4_col0{\n",
       "            background-color:  #8dc666;\n",
       "            color:  #000000;\n",
       "        }#T_4b3a0090_325c_11eb_af9f_0242ac130202row5_col0{\n",
       "            background-color:  #008066;\n",
       "            color:  #f1f1f1;\n",
       "        }</style><table id=\"T_4b3a0090_325c_11eb_af9f_0242ac130202\" ><thead>    <tr>        <th class=\"blank level0\" ></th>        <th class=\"col_heading level0 col0\" >Survived</th>    </tr>    <tr>        <th class=\"index_name level0\" >Fare_Bin</th>        <th class=\"blank\" ></th>    </tr></thead><tbody>\n",
       "                <tr>\n",
       "                        <th id=\"T_4b3a0090_325c_11eb_af9f_0242ac130202level0_row0\" class=\"row_heading level0 row0\" >(-0.001, 7.775]</th>\n",
       "                        <td id=\"T_4b3a0090_325c_11eb_af9f_0242ac130202row0_col0\" class=\"data row0 col0\" >0.205128</td>\n",
       "            </tr>\n",
       "            <tr>\n",
       "                        <th id=\"T_4b3a0090_325c_11eb_af9f_0242ac130202level0_row1\" class=\"row_heading level0 row1\" >(7.775, 8.662]</th>\n",
       "                        <td id=\"T_4b3a0090_325c_11eb_af9f_0242ac130202row1_col0\" class=\"data row1 col0\" >0.190789</td>\n",
       "            </tr>\n",
       "            <tr>\n",
       "                        <th id=\"T_4b3a0090_325c_11eb_af9f_0242ac130202level0_row2\" class=\"row_heading level0 row2\" >(8.662, 14.454]</th>\n",
       "                        <td id=\"T_4b3a0090_325c_11eb_af9f_0242ac130202row2_col0\" class=\"data row2 col0\" >0.366906</td>\n",
       "            </tr>\n",
       "            <tr>\n",
       "                        <th id=\"T_4b3a0090_325c_11eb_af9f_0242ac130202level0_row3\" class=\"row_heading level0 row3\" >(14.454, 26.0]</th>\n",
       "                        <td id=\"T_4b3a0090_325c_11eb_af9f_0242ac130202row3_col0\" class=\"data row3 col0\" >0.436242</td>\n",
       "            </tr>\n",
       "            <tr>\n",
       "                        <th id=\"T_4b3a0090_325c_11eb_af9f_0242ac130202level0_row4\" class=\"row_heading level0 row4\" >(26.0, 52.369]</th>\n",
       "                        <td id=\"T_4b3a0090_325c_11eb_af9f_0242ac130202row4_col0\" class=\"data row4 col0\" >0.417808</td>\n",
       "            </tr>\n",
       "            <tr>\n",
       "                        <th id=\"T_4b3a0090_325c_11eb_af9f_0242ac130202level0_row5\" class=\"row_heading level0 row5\" >(52.369, 512.329]</th>\n",
       "                        <td id=\"T_4b3a0090_325c_11eb_af9f_0242ac130202row5_col0\" class=\"data row5 col0\" >0.697987</td>\n",
       "            </tr>\n",
       "    </tbody></table>"
      ],
      "text/plain": [
       "<pandas.io.formats.style.Styler at 0x7fefae219710>"
      ]
     },
     "execution_count": 20,
     "metadata": {},
     "output_type": "execute_result"
    }
   ],
   "source": [
    "print('Highest Fare:',data['Fare'].max(),'   Lowest Fare:',data['Fare'].min(),'    Average Fare:',data['Fare'].mean())\n",
    "data['Fare_Bin']=pd.qcut(data['Fare'],6)\n",
    "data.groupby(['Fare_Bin'])['Survived'].mean().to_frame().style.background_gradient(cmap='summer_r')"
   ]
  },
  {
   "cell_type": "code",
   "execution_count": 21,
   "metadata": {
    "execution": {
     "iopub.execute_input": "2020-11-29T16:02:34.664279Z",
     "iopub.status.busy": "2020-11-29T16:02:34.662493Z",
     "iopub.status.idle": "2020-11-29T16:02:35.190781Z",
     "shell.execute_reply": "2020-11-29T16:02:35.190000Z"
    },
    "papermill": {
     "duration": 0.587671,
     "end_time": "2020-11-29T16:02:35.190912",
     "exception": false,
     "start_time": "2020-11-29T16:02:34.603241",
     "status": "completed"
    },
    "tags": []
   },
   "outputs": [
    {
     "data": {
      "image/png": "[encoded data removed]",
      "text/plain": [
       "<Figure size 720x576 with 2 Axes>"
      ]
     },
     "metadata": {
      "needs_background": "light"
     },
     "output_type": "display_data"
    }
   ],
   "source": [
    "sns.heatmap(data.corr(),annot=True,cmap='RdYlGn',linewidths=0.2) #data.corr()-->correlation matrix\n",
    "fig=plt.gcf()\n",
    "fig.set_size_inches(10,8)\n",
    "plt.show()"
   ]
  },
  {
   "cell_type": "code",
   "execution_count": 22,
   "metadata": {
    "execution": {
     "iopub.execute_input": "2020-11-29T16:02:35.316953Z",
     "iopub.status.busy": "2020-11-29T16:02:35.315869Z",
     "iopub.status.idle": "2020-11-29T16:02:35.321866Z",
     "shell.execute_reply": "2020-11-29T16:02:35.321236Z"
    },
    "papermill": {
     "duration": 0.072879,
     "end_time": "2020-11-29T16:02:35.321987",
     "exception": false,
     "start_time": "2020-11-29T16:02:35.249108",
     "status": "completed"
    },
    "tags": []
   },
   "outputs": [],
   "source": [
    "data['Sex'].replace(['male','female'],[0,1],inplace=True)\n",
    "data['Embarked'].replace(['S','C','Q'],[0,1,2],inplace=True)\n",
    "data['Initial'].replace(['Mr','Mrs','Miss','Master','Other'],[0,1,2,3,4],inplace=True)"
   ]
  },
  {
   "cell_type": "code",
   "execution_count": 23,
   "metadata": {
    "execution": {
     "iopub.execute_input": "2020-11-29T16:02:35.434702Z",
     "iopub.status.busy": "2020-11-29T16:02:35.433724Z",
     "iopub.status.idle": "2020-11-29T16:02:35.439679Z",
     "shell.execute_reply": "2020-11-29T16:02:35.438672Z"
    },
    "papermill": {
     "duration": 0.06512,
     "end_time": "2020-11-29T16:02:35.439860",
     "exception": false,
     "start_time": "2020-11-29T16:02:35.374740",
     "status": "completed"
    },
    "tags": []
   },
   "outputs": [
    {
     "name": "stdout",
     "output_type": "stream",
     "text": [
      "Highest Age: 80.0    Lowest Age: 0.42\n"
     ]
    }
   ],
   "source": [
    "print('Highest Age:',data['Age'].max(),'   Lowest Age:',data['Age'].min())\n"
   ]
  },
  {
   "cell_type": "code",
   "execution_count": 24,
   "metadata": {
    "execution": {
     "iopub.execute_input": "2020-11-29T16:02:35.568443Z",
     "iopub.status.busy": "2020-11-29T16:02:35.560364Z",
     "iopub.status.idle": "2020-11-29T16:02:35.572235Z",
     "shell.execute_reply": "2020-11-29T16:02:35.571546Z"
    },
    "papermill": {
     "duration": 0.077857,
     "end_time": "2020-11-29T16:02:35.572373",
     "exception": false,
     "start_time": "2020-11-29T16:02:35.494516",
     "status": "completed"
    },
    "tags": []
   },
   "outputs": [],
   "source": [
    "data['Age_cat']=0\n",
    "data.loc[data['Age']<=16,'Age_cat']=0\n",
    "data.loc[(data['Age']>16)&(data['Age']<=32),'Age_cat']=1\n",
    "data.loc[(data['Age']>32)&(data['Age']<=48),'Age_cat']=2\n",
    "data.loc[(data['Age']>48)&(data['Age']<=64),'Age_cat']=3\n",
    "data.loc[data['Age']>64,'Age_cat']=4"
   ]
  },
  {
   "cell_type": "code",
   "execution_count": 25,
   "metadata": {
    "execution": {
     "iopub.execute_input": "2020-11-29T16:02:35.690807Z",
     "iopub.status.busy": "2020-11-29T16:02:35.688713Z",
     "iopub.status.idle": "2020-11-29T16:02:35.702282Z",
     "shell.execute_reply": "2020-11-29T16:02:35.701510Z"
    },
    "papermill": {
     "duration": 0.076556,
     "end_time": "2020-11-29T16:02:35.702424",
     "exception": false,
     "start_time": "2020-11-29T16:02:35.625868",
     "status": "completed"
    },
    "tags": []
   },
   "outputs": [],
   "source": [
    "data['Fare_cat']=0\n",
    "data.loc[data['Fare']<=7.775,'Fare_cat']=0\n",
    "data.loc[(data['Fare']>7.775)&(data['Fare']<=8.662),'Fare_cat']=1\n",
    "data.loc[(data['Fare']>8.662)&(data['Fare']<=14.454),'Fare_cat']=2\n",
    "data.loc[(data['Fare']>14.454)&(data['Fare']<=26.0),'Fare_cat']=3\n",
    "data.loc[(data['Fare']>26.0)&(data['Fare']<=52.369),'Fare_cat']=4\n",
    "data.loc[data['Fare']>52.369,'Fare_cat']=5"
   ]
  },
  {
   "cell_type": "code",
   "execution_count": 26,
   "metadata": {
    "execution": {
     "iopub.execute_input": "2020-11-29T16:02:35.817790Z",
     "iopub.status.busy": "2020-11-29T16:02:35.816726Z",
     "iopub.status.idle": "2020-11-29T16:02:35.820228Z",
     "shell.execute_reply": "2020-11-29T16:02:35.819459Z"
    },
    "papermill": {
     "duration": 0.064273,
     "end_time": "2020-11-29T16:02:35.820356",
     "exception": false,
     "start_time": "2020-11-29T16:02:35.756083",
     "status": "completed"
    },
    "tags": []
   },
   "outputs": [],
   "source": [
    "data.drop(['Name','Age','Fare','Ticket','Cabin','Fare_Bin','SibSp','Parch','PassengerId'],axis=1,inplace=True)"
   ]
  },
  {
   "cell_type": "code",
   "execution_count": 27,
   "metadata": {
    "execution": {
     "iopub.execute_input": "2020-11-29T16:02:35.940655Z",
     "iopub.status.busy": "2020-11-29T16:02:35.939525Z",
     "iopub.status.idle": "2020-11-29T16:02:35.944518Z",
     "shell.execute_reply": "2020-11-29T16:02:35.943898Z"
    },
    "papermill": {
     "duration": 0.070514,
     "end_time": "2020-11-29T16:02:35.944644",
     "exception": false,
     "start_time": "2020-11-29T16:02:35.874130",
     "status": "completed"
    },
    "tags": []
   },
   "outputs": [
    {
     "data": {
      "text/html": [
       "<div>\n",
       "<style scoped>\n",
       "    .dataframe tbody tr th:only-of-type {\n",
       "        vertical-align: middle;\n",
       "    }\n",
       "\n",
       "    .dataframe tbody tr th {\n",
       "        vertical-align: top;\n",
       "    }\n",
       "\n",
       "    .dataframe thead th {\n",
       "        text-align: right;\n",
       "    }\n",
       "</style>\n",
       "<table border=\"1\" class=\"dataframe\">\n",
       "  <thead>\n",
       "    <tr style=\"text-align: right;\">\n",
       "      <th></th>\n",
       "      <th>Survived</th>\n",
       "      <th>Pclass</th>\n",
       "      <th>Sex</th>\n",
       "      <th>Embarked</th>\n",
       "      <th>Initial</th>\n",
       "      <th>FamilySize</th>\n",
       "      <th>Age_cat</th>\n",
       "      <th>Fare_cat</th>\n",
       "    </tr>\n",
       "  </thead>\n",
       "  <tbody>\n",
       "    <tr>\n",
       "      <th>0</th>\n",
       "      <td>0</td>\n",
       "      <td>3</td>\n",
       "      <td>0</td>\n",
       "      <td>0</td>\n",
       "      <td>0</td>\n",
       "      <td>1</td>\n",
       "      <td>1</td>\n",
       "      <td>0</td>\n",
       "    </tr>\n",
       "    <tr>\n",
       "      <th>1</th>\n",
       "      <td>1</td>\n",
       "      <td>1</td>\n",
       "      <td>1</td>\n",
       "      <td>1</td>\n",
       "      <td>1</td>\n",
       "      <td>1</td>\n",
       "      <td>2</td>\n",
       "      <td>5</td>\n",
       "    </tr>\n",
       "  </tbody>\n",
       "</table>\n",
       "</div>"
      ],
      "text/plain": [
       "   Survived  Pclass  Sex  Embarked  Initial  FamilySize  Age_cat  Fare_cat\n",
       "0         0       3    0         0        0           1        1         0\n",
       "1         1       1    1         1        1           1        2         5"
      ]
     },
     "execution_count": 27,
     "metadata": {},
     "output_type": "execute_result"
    }
   ],
   "source": [
    "data.head(2)"
   ]
  },
  {
   "cell_type": "code",
   "execution_count": 28,
   "metadata": {
    "execution": {
     "iopub.execute_input": "2020-11-29T16:02:36.062496Z",
     "iopub.status.busy": "2020-11-29T16:02:36.061554Z",
     "iopub.status.idle": "2020-11-29T16:02:36.551684Z",
     "shell.execute_reply": "2020-11-29T16:02:36.551013Z"
    },
    "papermill": {
     "duration": 0.551771,
     "end_time": "2020-11-29T16:02:36.551819",
     "exception": false,
     "start_time": "2020-11-29T16:02:36.000048",
     "status": "completed"
    },
    "tags": []
   },
   "outputs": [
    {
     "data": {
      "image/png": "[encoded data removed]",
      "text/plain": [
       "<Figure size 720x576 with 2 Axes>"
      ]
     },
     "metadata": {
      "needs_background": "light"
     },
     "output_type": "display_data"
    }
   ],
   "source": [
    "sns.heatmap(data.corr(),annot=True,cmap='RdYlGn',linewidths=0.2) #data.corr()-->correlation matrix\n",
    "fig=plt.gcf()\n",
    "fig.set_size_inches(10,8)\n",
    "plt.show()"
   ]
  },
  {
   "cell_type": "code",
   "execution_count": 29,
   "metadata": {
    "execution": {
     "iopub.execute_input": "2020-11-29T16:02:36.672023Z",
     "iopub.status.busy": "2020-11-29T16:02:36.671249Z",
     "iopub.status.idle": "2020-11-29T16:02:37.064228Z",
     "shell.execute_reply": "2020-11-29T16:02:37.063566Z"
    },
    "papermill": {
     "duration": 0.45583,
     "end_time": "2020-11-29T16:02:37.064362",
     "exception": false,
     "start_time": "2020-11-29T16:02:36.608532",
     "status": "completed"
    },
    "tags": []
   },
   "outputs": [],
   "source": [
    "from sklearn.linear_model import LogisticRegression #logistic regression\n",
    "from sklearn.ensemble import RandomForestClassifier #Random Forest\n",
    "from sklearn.naive_bayes import GaussianNB #Naive bayes\n",
    "from sklearn.tree import DecisionTreeClassifier #Decision Tree\n",
    "from sklearn.model_selection import train_test_split #training and testing data split\n",
    "from sklearn import metrics #accuracy measure\n",
    "from sklearn.metrics import confusion_matrix"
   ]
  },
  {
   "cell_type": "code",
   "execution_count": 30,
   "metadata": {
    "execution": {
     "iopub.execute_input": "2020-11-29T16:02:37.188316Z",
     "iopub.status.busy": "2020-11-29T16:02:37.187572Z",
     "iopub.status.idle": "2020-11-29T16:02:37.197792Z",
     "shell.execute_reply": "2020-11-29T16:02:37.197169Z"
    },
    "papermill": {
     "duration": 0.076845,
     "end_time": "2020-11-29T16:02:37.197938",
     "exception": false,
     "start_time": "2020-11-29T16:02:37.121093",
     "status": "completed"
    },
    "tags": []
   },
   "outputs": [],
   "source": [
    "#Lets prepare data sets for training. \n",
    "train,test=train_test_split(data,test_size=0.3,random_state=0,stratify=data['Survived'])\n",
    "train_X=train[train.columns[1:]]\n",
    "train_Y=train[train.columns[:1]]\n",
    "test_X=test[test.columns[1:]]\n",
    "test_Y=test[test.columns[:1]]\n",
    "X=data[data.columns[1:]]\n",
    "Y=data['Survived']"
   ]
  },
  {
   "cell_type": "code",
   "execution_count": 31,
   "metadata": {
    "execution": {
     "iopub.execute_input": "2020-11-29T16:02:37.330029Z",
     "iopub.status.busy": "2020-11-29T16:02:37.328983Z",
     "iopub.status.idle": "2020-11-29T16:02:37.334673Z",
     "shell.execute_reply": "2020-11-29T16:02:37.333717Z"
    },
    "papermill": {
     "duration": 0.079394,
     "end_time": "2020-11-29T16:02:37.334822",
     "exception": false,
     "start_time": "2020-11-29T16:02:37.255428",
     "status": "completed"
    },
    "tags": []
   },
   "outputs": [
    {
     "data": {
      "text/html": [
       "<div>\n",
       "<style scoped>\n",
       "    .dataframe tbody tr th:only-of-type {\n",
       "        vertical-align: middle;\n",
       "    }\n",
       "\n",
       "    .dataframe tbody tr th {\n",
       "        vertical-align: top;\n",
       "    }\n",
       "\n",
       "    .dataframe thead th {\n",
       "        text-align: right;\n",
       "    }\n",
       "</style>\n",
       "<table border=\"1\" class=\"dataframe\">\n",
       "  <thead>\n",
       "    <tr style=\"text-align: right;\">\n",
       "      <th></th>\n",
       "      <th>Survived</th>\n",
       "      <th>Pclass</th>\n",
       "      <th>Sex</th>\n",
       "      <th>Embarked</th>\n",
       "      <th>Initial</th>\n",
       "      <th>FamilySize</th>\n",
       "      <th>Age_cat</th>\n",
       "      <th>Fare_cat</th>\n",
       "    </tr>\n",
       "  </thead>\n",
       "  <tbody>\n",
       "    <tr>\n",
       "      <th>0</th>\n",
       "      <td>0</td>\n",
       "      <td>3</td>\n",
       "      <td>0</td>\n",
       "      <td>0</td>\n",
       "      <td>0</td>\n",
       "      <td>1</td>\n",
       "      <td>1</td>\n",
       "      <td>0</td>\n",
       "    </tr>\n",
       "    <tr>\n",
       "      <th>1</th>\n",
       "      <td>1</td>\n",
       "      <td>1</td>\n",
       "      <td>1</td>\n",
       "      <td>1</td>\n",
       "      <td>1</td>\n",
       "      <td>1</td>\n",
       "      <td>2</td>\n",
       "      <td>5</td>\n",
       "    </tr>\n",
       "  </tbody>\n",
       "</table>\n",
       "</div>"
      ],
      "text/plain": [
       "   Survived  Pclass  Sex  Embarked  Initial  FamilySize  Age_cat  Fare_cat\n",
       "0         0       3    0         0        0           1        1         0\n",
       "1         1       1    1         1        1           1        2         5"
      ]
     },
     "execution_count": 31,
     "metadata": {},
     "output_type": "execute_result"
    }
   ],
   "source": [
    "data.head(2)"
   ]
  },
  {
   "cell_type": "code",
   "execution_count": 32,
   "metadata": {
    "execution": {
     "iopub.execute_input": "2020-11-29T16:02:37.486533Z",
     "iopub.status.busy": "2020-11-29T16:02:37.485198Z",
     "iopub.status.idle": "2020-11-29T16:02:37.771885Z",
     "shell.execute_reply": "2020-11-29T16:02:37.773078Z"
    },
    "papermill": {
     "duration": 0.367234,
     "end_time": "2020-11-29T16:02:37.773258",
     "exception": false,
     "start_time": "2020-11-29T16:02:37.406024",
     "status": "completed"
    },
    "tags": []
   },
   "outputs": [
    {
     "name": "stdout",
     "output_type": "stream",
     "text": [
      "The accuracy of the Logistic Regression model is \t 0.8134328358208955\n",
      "The accuracy of the NaiveBayes model is\t\t\t 0.8134328358208955\n",
      "The accuracy of the Decision Tree is \t\t\t 0.8134328358208955\n",
      "The accuracy of the Random Forests model is \t\t 0.8134328358208955\n"
     ]
    }
   ],
   "source": [
    "# Logistic Regression\n",
    "model = LogisticRegression(C=0.05,solver='liblinear')\n",
    "model.fit(train_X,train_Y.values.ravel())\n",
    "LR_prediction=model.predict(test_X)\n",
    "print('The accuracy of the Logistic Regression model is \\t',metrics.accuracy_score(LR_prediction,test_Y))\n",
    "\n",
    "# Naive Bayes\n",
    "model=GaussianNB()\n",
    "model.fit(train_X,train_Y.values.ravel())\n",
    "NB_prediction=model.predict(test_X)\n",
    "print('The accuracy of the NaiveBayes model is\\t\\t\\t',metrics.accuracy_score(NB_prediction,test_Y))\n",
    "\n",
    "# Decision Tree\n",
    "model=DecisionTreeClassifier()\n",
    "model.fit(train_X,train_Y)\n",
    "DT_prediction=model.predict(test_X)\n",
    "print('The accuracy of the Decision Tree is \\t\\t\\t',metrics.accuracy_score(DT_prediction,test_Y))\n",
    "\n",
    "# Random Forest\n",
    "model=RandomForestClassifier(n_estimators=100)\n",
    "model.fit(train_X,train_Y.values.ravel())\n",
    "RF_prediction=model.predict(test_X)\n",
    "print('The accuracy of the Random Forests model is \\t\\t',metrics.accuracy_score(RF_prediction,test_Y))"
   ]
  },
  {
   "cell_type": "code",
   "execution_count": 33,
   "metadata": {
    "execution": {
     "iopub.execute_input": "2020-11-29T16:02:37.902738Z",
     "iopub.status.busy": "2020-11-29T16:02:37.901861Z",
     "iopub.status.idle": "2020-11-29T16:02:40.742658Z",
     "shell.execute_reply": "2020-11-29T16:02:40.743294Z"
    },
    "papermill": {
     "duration": 2.911655,
     "end_time": "2020-11-29T16:02:40.743501",
     "exception": false,
     "start_time": "2020-11-29T16:02:37.831846",
     "status": "completed"
    },
    "tags": []
   },
   "outputs": [
    {
     "name": "stderr",
     "output_type": "stream",
     "text": [
      "/opt/conda/lib/python3.7/site-packages/sklearn/model_selection/_split.py:297: FutureWarning: Setting a random_state has no effect since shuffle is False. This will raise an error in 0.24. You should leave random_state to its default (None), or set shuffle=True.\n",
      "  FutureWarning\n"
     ]
    },
    {
     "data": {
      "text/html": [
       "<div>\n",
       "<style scoped>\n",
       "    .dataframe tbody tr th:only-of-type {\n",
       "        vertical-align: middle;\n",
       "    }\n",
       "\n",
       "    .dataframe tbody tr th {\n",
       "        vertical-align: top;\n",
       "    }\n",
       "\n",
       "    .dataframe thead th {\n",
       "        text-align: right;\n",
       "    }\n",
       "</style>\n",
       "<table border=\"1\" class=\"dataframe\">\n",
       "  <thead>\n",
       "    <tr style=\"text-align: right;\">\n",
       "      <th></th>\n",
       "      <th>CV Mean</th>\n",
       "      <th>Std</th>\n",
       "    </tr>\n",
       "  </thead>\n",
       "  <tbody>\n",
       "    <tr>\n",
       "      <th>Logistic Regression</th>\n",
       "      <td>0.798002</td>\n",
       "      <td>0.022233</td>\n",
       "    </tr>\n",
       "    <tr>\n",
       "      <th>Decision Tree</th>\n",
       "      <td>0.803596</td>\n",
       "      <td>0.044991</td>\n",
       "    </tr>\n",
       "    <tr>\n",
       "      <th>Naive Bayes</th>\n",
       "      <td>0.803608</td>\n",
       "      <td>0.040184</td>\n",
       "    </tr>\n",
       "    <tr>\n",
       "      <th>Random Forest</th>\n",
       "      <td>0.811448</td>\n",
       "      <td>0.037863</td>\n",
       "    </tr>\n",
       "  </tbody>\n",
       "</table>\n",
       "</div>"
      ],
      "text/plain": [
       "                      CV Mean       Std\n",
       "Logistic Regression  0.798002  0.022233\n",
       "Decision Tree        0.803596  0.044991\n",
       "Naive Bayes          0.803608  0.040184\n",
       "Random Forest        0.811448  0.037863"
      ]
     },
     "execution_count": 33,
     "metadata": {},
     "output_type": "execute_result"
    }
   ],
   "source": [
    "from sklearn.model_selection import KFold #for K-fold cross validation\n",
    "from sklearn.model_selection import cross_val_score #score evaluation\n",
    "from sklearn.model_selection import cross_val_predict #prediction\n",
    "kfold = KFold(n_splits=10, random_state=22) # k=10, split the data into 10 equal parts\n",
    "xyz=[]\n",
    "accuracy=[]\n",
    "std=[]\n",
    "classifiers=['Logistic Regression','Decision Tree','Naive Bayes','Random Forest']\n",
    "models=[LogisticRegression(solver='liblinear'),DecisionTreeClassifier(),GaussianNB(),RandomForestClassifier(n_estimators=100)]\n",
    "for i in models:\n",
    "    model = i\n",
    "    cv_result = cross_val_score(model,X,Y, cv = kfold,scoring = \"accuracy\")\n",
    "    xyz.append(cv_result.mean())\n",
    "    std.append(cv_result.std())\n",
    "    accuracy.append(cv_result)\n",
    "new_models_dataframe2=pd.DataFrame({'CV Mean':xyz,'Std':std},index=classifiers)       \n",
    "new_models_dataframe2"
   ]
  },
  {
   "cell_type": "code",
   "execution_count": 34,
   "metadata": {
    "execution": {
     "iopub.execute_input": "2020-11-29T16:02:40.890205Z",
     "iopub.status.busy": "2020-11-29T16:02:40.888990Z",
     "iopub.status.idle": "2020-11-29T16:02:44.817160Z",
     "shell.execute_reply": "2020-11-29T16:02:44.816537Z"
    },
    "papermill": {
     "duration": 4.013227,
     "end_time": "2020-11-29T16:02:44.817282",
     "exception": false,
     "start_time": "2020-11-29T16:02:40.804055",
     "status": "completed"
    },
    "tags": []
   },
   "outputs": [
    {
     "data": {
      "image/png": "[encoded data removed]",
      "text/plain": [
       "<Figure size 720x576 with 8 Axes>"
      ]
     },
     "metadata": {
      "needs_background": "light"
     },
     "output_type": "display_data"
    }
   ],
   "source": [
    "f,ax=plt.subplots(2,2,figsize=(10,8))\n",
    "y_pred = cross_val_predict(LogisticRegression(C=0.05,solver='liblinear'),X,Y,cv=10)\n",
    "sns.heatmap(confusion_matrix(Y,y_pred),ax=ax[0,0],annot=True,fmt='2.0f')\n",
    "ax[0,0].set_title('Matrix for Logistic Regression')\n",
    "y_pred = cross_val_predict(DecisionTreeClassifier(),X,Y,cv=10)\n",
    "sns.heatmap(confusion_matrix(Y,y_pred),ax=ax[0,1],annot=True,fmt='2.0f')\n",
    "ax[0,1].set_title('Matrix for Decision Tree')\n",
    "y_pred = cross_val_predict(GaussianNB(),X,Y,cv=10)\n",
    "sns.heatmap(confusion_matrix(Y,y_pred),ax=ax[1,0],annot=True,fmt='2.0f')\n",
    "ax[1,0].set_title('Matrix for Naive Bayes')\n",
    "y_pred = cross_val_predict(RandomForestClassifier(n_estimators=100),X,Y,cv=10)\n",
    "sns.heatmap(confusion_matrix(Y,y_pred),ax=ax[1,1],annot=True,fmt='2.0f')\n",
    "ax[1,1].set_title('Matrix for Random-Forests')\n",
    "plt.subplots_adjust(hspace=0.2,wspace=0.2)\n",
    "plt.show()"
   ]
  },
  {
   "cell_type": "code",
   "execution_count": 35,
   "metadata": {
    "execution": {
     "iopub.execute_input": "2020-11-29T16:02:44.950140Z",
     "iopub.status.busy": "2020-11-29T16:02:44.949048Z",
     "iopub.status.idle": "2020-11-29T16:04:40.945102Z",
     "shell.execute_reply": "2020-11-29T16:04:40.944463Z"
    },
    "papermill": {
     "duration": 116.066617,
     "end_time": "2020-11-29T16:04:40.945229",
     "exception": false,
     "start_time": "2020-11-29T16:02:44.878612",
     "status": "completed"
    },
    "tags": []
   },
   "outputs": [
    {
     "name": "stdout",
     "output_type": "stream",
     "text": [
      "Fitting 10 folds for each of 9 candidates, totalling 90 fits\n"
     ]
    },
    {
     "name": "stderr",
     "output_type": "stream",
     "text": [
      "[Parallel(n_jobs=1)]: Using backend SequentialBackend with 1 concurrent workers.\n",
      "[Parallel(n_jobs=1)]: Done  90 out of  90 | elapsed:  1.9min finished\n"
     ]
    },
    {
     "name": "stdout",
     "output_type": "stream",
     "text": [
      "0.8080898876404493\n",
      "RandomForestClassifier(random_state=0)\n"
     ]
    }
   ],
   "source": [
    "from sklearn.model_selection import GridSearchCV\n",
    "n_estimators=range(100,1000,100)\n",
    "hyper={'n_estimators':n_estimators}\n",
    "gd=GridSearchCV(estimator=RandomForestClassifier(random_state=0),param_grid=hyper,verbose=True,cv=10)\n",
    "gd.fit(X,Y)\n",
    "print(gd.best_score_)\n",
    "print(gd.best_estimator_)"
   ]
  },
  {
   "cell_type": "code",
   "execution_count": 36,
   "metadata": {
    "execution": {
     "iopub.execute_input": "2020-11-29T16:04:41.087233Z",
     "iopub.status.busy": "2020-11-29T16:04:41.086469Z",
     "iopub.status.idle": "2020-11-29T16:04:44.187695Z",
     "shell.execute_reply": "2020-11-29T16:04:44.187072Z"
    },
    "papermill": {
     "duration": 3.178071,
     "end_time": "2020-11-29T16:04:44.187832",
     "exception": false,
     "start_time": "2020-11-29T16:04:41.009761",
     "status": "completed"
    },
    "tags": []
   },
   "outputs": [
    {
     "name": "stdout",
     "output_type": "stream",
     "text": [
      "The accuracy for ensembled model is: 0.8097014925373134\n",
      "The cross validated score is 0.8036079900124845\n"
     ]
    }
   ],
   "source": [
    "from sklearn.ensemble import VotingClassifier\n",
    "estimators=[('RFor',RandomForestClassifier(n_estimators=100,random_state=0)),\n",
    "            ('LR',LogisticRegression(C=0.05,solver='liblinear')),\n",
    "            ('DT',DecisionTreeClassifier()),\n",
    "            ('NB',GaussianNB())]\n",
    "ensemble=VotingClassifier(estimators=estimators,voting='soft')\n",
    "ensemble.fit(train_X,train_Y.values.ravel())\n",
    "print('The accuracy for ensembled model is:',ensemble.score(test_X,test_Y))\n",
    "cross=cross_val_score(ensemble,X,Y, cv = 10,scoring = \"accuracy\")\n",
    "print('The cross validated score is',cross.mean())"
   ]
  },
  {
   "cell_type": "code",
   "execution_count": 37,
   "metadata": {
    "execution": {
     "iopub.execute_input": "2020-11-29T16:04:44.326911Z",
     "iopub.status.busy": "2020-11-29T16:04:44.325964Z",
     "iopub.status.idle": "2020-11-29T16:04:44.857987Z",
     "shell.execute_reply": "2020-11-29T16:04:44.858564Z"
    },
    "papermill": {
     "duration": 0.607024,
     "end_time": "2020-11-29T16:04:44.858734",
     "exception": false,
     "start_time": "2020-11-29T16:04:44.251710",
     "status": "completed"
    },
    "tags": []
   },
   "outputs": [
    {
     "data": {
      "text/plain": [
       "VotingClassifier(estimators=[('RFor',\n",
       "                              RandomForestClassifier(n_estimators=200,\n",
       "                                                     random_state=0)),\n",
       "                             ('LR',\n",
       "                              LogisticRegression(C=0.05, solver='liblinear')),\n",
       "                             ('DT', DecisionTreeClassifier(random_state=0)),\n",
       "                             ('NB', GaussianNB())],\n",
       "                 voting='soft')"
      ]
     },
     "execution_count": 37,
     "metadata": {},
     "output_type": "execute_result"
    }
   ],
   "source": [
    "Ensemble_Model_For_Prediction=VotingClassifier(estimators=[\n",
    "                                       ('RFor',RandomForestClassifier(n_estimators=200,random_state=0)),\n",
    "                                       ('LR',LogisticRegression(C=0.05,solver='liblinear')),\n",
    "                                       ('DT',DecisionTreeClassifier(random_state=0)),\n",
    "                                       ('NB',GaussianNB())\n",
    "                                             ], \n",
    "                       voting='soft')\n",
    "Ensemble_Model_For_Prediction.fit(X,Y)"
   ]
  },
  {
   "cell_type": "code",
   "execution_count": 38,
   "metadata": {
    "execution": {
     "iopub.execute_input": "2020-11-29T16:04:44.996893Z",
     "iopub.status.busy": "2020-11-29T16:04:44.996049Z",
     "iopub.status.idle": "2020-11-29T16:04:45.016971Z",
     "shell.execute_reply": "2020-11-29T16:04:45.016151Z"
    },
    "papermill": {
     "duration": 0.093528,
     "end_time": "2020-11-29T16:04:45.017105",
     "exception": false,
     "start_time": "2020-11-29T16:04:44.923577",
     "status": "completed"
    },
    "tags": []
   },
   "outputs": [
    {
     "data": {
      "text/html": [
       "<div>\n",
       "<style scoped>\n",
       "    .dataframe tbody tr th:only-of-type {\n",
       "        vertical-align: middle;\n",
       "    }\n",
       "\n",
       "    .dataframe tbody tr th {\n",
       "        vertical-align: top;\n",
       "    }\n",
       "\n",
       "    .dataframe thead th {\n",
       "        text-align: right;\n",
       "    }\n",
       "</style>\n",
       "<table border=\"1\" class=\"dataframe\">\n",
       "  <thead>\n",
       "    <tr style=\"text-align: right;\">\n",
       "      <th></th>\n",
       "      <th>PassengerId</th>\n",
       "      <th>Pclass</th>\n",
       "      <th>Name</th>\n",
       "      <th>Sex</th>\n",
       "      <th>Age</th>\n",
       "      <th>SibSp</th>\n",
       "      <th>Parch</th>\n",
       "      <th>Ticket</th>\n",
       "      <th>Fare</th>\n",
       "      <th>Cabin</th>\n",
       "      <th>Embarked</th>\n",
       "    </tr>\n",
       "  </thead>\n",
       "  <tbody>\n",
       "    <tr>\n",
       "      <th>0</th>\n",
       "      <td>892</td>\n",
       "      <td>3</td>\n",
       "      <td>Kelly, Mr. James</td>\n",
       "      <td>male</td>\n",
       "      <td>34.5</td>\n",
       "      <td>0</td>\n",
       "      <td>0</td>\n",
       "      <td>330911</td>\n",
       "      <td>7.8292</td>\n",
       "      <td>NaN</td>\n",
       "      <td>Q</td>\n",
       "    </tr>\n",
       "    <tr>\n",
       "      <th>1</th>\n",
       "      <td>893</td>\n",
       "      <td>3</td>\n",
       "      <td>Wilkes, Mrs. James (Ellen Needs)</td>\n",
       "      <td>female</td>\n",
       "      <td>47.0</td>\n",
       "      <td>1</td>\n",
       "      <td>0</td>\n",
       "      <td>363272</td>\n",
       "      <td>7.0000</td>\n",
       "      <td>NaN</td>\n",
       "      <td>S</td>\n",
       "    </tr>\n",
       "  </tbody>\n",
       "</table>\n",
       "</div>"
      ],
      "text/plain": [
       "   PassengerId  Pclass                              Name     Sex   Age  SibSp  \\\n",
       "0          892       3                  Kelly, Mr. James    male  34.5      0   \n",
       "1          893       3  Wilkes, Mrs. James (Ellen Needs)  female  47.0      1   \n",
       "\n",
       "   Parch  Ticket    Fare Cabin Embarked  \n",
       "0      0  330911  7.8292   NaN        Q  \n",
       "1      0  363272  7.0000   NaN        S  "
      ]
     },
     "execution_count": 38,
     "metadata": {},
     "output_type": "execute_result"
    }
   ],
   "source": [
    "test=pd.read_csv('../input/titanic/test.csv')\n",
    "IDtest = test[\"PassengerId\"]\n",
    "test.head(2)"
   ]
  },
  {
   "cell_type": "code",
   "execution_count": 39,
   "metadata": {
    "execution": {
     "iopub.execute_input": "2020-11-29T16:04:45.159499Z",
     "iopub.status.busy": "2020-11-29T16:04:45.158331Z",
     "iopub.status.idle": "2020-11-29T16:04:45.162710Z",
     "shell.execute_reply": "2020-11-29T16:04:45.161956Z"
    },
    "papermill": {
     "duration": 0.079689,
     "end_time": "2020-11-29T16:04:45.162837",
     "exception": false,
     "start_time": "2020-11-29T16:04:45.083148",
     "status": "completed"
    },
    "tags": []
   },
   "outputs": [
    {
     "data": {
      "text/plain": [
       "PassengerId      0\n",
       "Pclass           0\n",
       "Name             0\n",
       "Sex              0\n",
       "Age             86\n",
       "SibSp            0\n",
       "Parch            0\n",
       "Ticket           0\n",
       "Fare             1\n",
       "Cabin          327\n",
       "Embarked         0\n",
       "dtype: int64"
      ]
     },
     "execution_count": 39,
     "metadata": {},
     "output_type": "execute_result"
    }
   ],
   "source": [
    "test.isnull().sum()"
   ]
  },
  {
   "cell_type": "code",
   "execution_count": 40,
   "metadata": {
    "execution": {
     "iopub.execute_input": "2020-11-29T16:04:45.371943Z",
     "iopub.status.busy": "2020-11-29T16:04:45.363136Z",
     "iopub.status.idle": "2020-11-29T16:04:45.408534Z",
     "shell.execute_reply": "2020-11-29T16:04:45.407747Z"
    },
    "papermill": {
     "duration": 0.179684,
     "end_time": "2020-11-29T16:04:45.408665",
     "exception": false,
     "start_time": "2020-11-29T16:04:45.228981",
     "status": "completed"
    },
    "tags": []
   },
   "outputs": [
    {
     "data": {
      "text/html": [
       "<div>\n",
       "<style scoped>\n",
       "    .dataframe tbody tr th:only-of-type {\n",
       "        vertical-align: middle;\n",
       "    }\n",
       "\n",
       "    .dataframe tbody tr th {\n",
       "        vertical-align: top;\n",
       "    }\n",
       "\n",
       "    .dataframe thead th {\n",
       "        text-align: right;\n",
       "    }\n",
       "</style>\n",
       "<table border=\"1\" class=\"dataframe\">\n",
       "  <thead>\n",
       "    <tr style=\"text-align: right;\">\n",
       "      <th></th>\n",
       "      <th>Pclass</th>\n",
       "      <th>Sex</th>\n",
       "      <th>Embarked</th>\n",
       "      <th>Initial</th>\n",
       "      <th>Age_cat</th>\n",
       "      <th>Fare_cat</th>\n",
       "      <th>FamilySize</th>\n",
       "    </tr>\n",
       "  </thead>\n",
       "  <tbody>\n",
       "    <tr>\n",
       "      <th>0</th>\n",
       "      <td>3</td>\n",
       "      <td>0</td>\n",
       "      <td>2</td>\n",
       "      <td>0</td>\n",
       "      <td>2</td>\n",
       "      <td>1</td>\n",
       "      <td>0</td>\n",
       "    </tr>\n",
       "    <tr>\n",
       "      <th>1</th>\n",
       "      <td>3</td>\n",
       "      <td>1</td>\n",
       "      <td>0</td>\n",
       "      <td>1</td>\n",
       "      <td>2</td>\n",
       "      <td>0</td>\n",
       "      <td>1</td>\n",
       "    </tr>\n",
       "  </tbody>\n",
       "</table>\n",
       "</div>"
      ],
      "text/plain": [
       "   Pclass  Sex  Embarked  Initial  Age_cat  Fare_cat  FamilySize\n",
       "0       3    0         2        0        2         1           0\n",
       "1       3    1         0        1        2         0           1"
      ]
     },
     "execution_count": 40,
     "metadata": {},
     "output_type": "execute_result"
    }
   ],
   "source": [
    "# Prepare Test Data set for feeding\n",
    "\n",
    "# Construct feature Initial\n",
    "test['Initial']=0\n",
    "for i in test:\n",
    "    test['Initial']=test.Name.str.extract('([A-Za-z]+)\\.') #lets extract the Salutations\n",
    "    \n",
    "test['Initial'].replace(['Mlle','Mme','Ms','Dr','Major','Lady','Countess','Jonkheer','Col','Rev','Capt','Sir','Don','Dona'],['Miss','Miss','Miss','Mr','Mr','Mrs','Mrs','Other','Other','Other','Mr','Mr','Mr','Other'],inplace=True)\n",
    "\n",
    "# Fill Null values in Age Column\n",
    "test.loc[(test.Age.isnull())&(test.Initial=='Mr'),'Age']=33\n",
    "test.loc[(test.Age.isnull())&(test.Initial=='Mrs'),'Age']=36\n",
    "test.loc[(test.Age.isnull())&(test.Initial=='Master'),'Age']=5\n",
    "test.loc[(test.Age.isnull())&(test.Initial=='Miss'),'Age']=22\n",
    "test.loc[(test.Age.isnull())&(test.Initial=='Other'),'Age']=46\n",
    "\n",
    "# Fill Null values in Fare Column\n",
    "test.loc[(test.Fare.isnull()) & (test['Pclass']==3),'Fare'] = 12.45\n",
    "\n",
    "# Construct feature Age_cat\n",
    "test['Age_cat']=0\n",
    "test.loc[test['Age']<=16,'Age_cat']=0\n",
    "test.loc[(test['Age']>16)&(test['Age']<=32),'Age_cat']=1\n",
    "test.loc[(test['Age']>32)&(test['Age']<=48),'Age_cat']=2\n",
    "test.loc[(test['Age']>48)&(test['Age']<=64),'Age_cat']=3\n",
    "test.loc[test['Age']>64,'Age_cat']=4\n",
    "\n",
    "# Construct feature Fare_cat\n",
    "test['Fare_cat']=0\n",
    "test.loc[test['Fare']<=7.775,'Fare_cat']=0\n",
    "test.loc[(test['Fare']>7.775)&(test['Fare']<=8.662),'Fare_cat']=1\n",
    "test.loc[(test['Fare']>8.662)&(test['Fare']<=14.454),'Fare_cat']=2\n",
    "test.loc[(test['Fare']>14.454)&(test['Fare']<=26.0),'Fare_cat']=3\n",
    "test.loc[(test['Fare']>26.0)&(test['Fare']<=52.369),'Fare_cat']=4\n",
    "test.loc[test['Fare']>52.369,'Fare_cat']=5\n",
    "\n",
    "# Construct feature FamilySize\n",
    "test['FamilySize'] = test['Parch'] + test['SibSp']\n",
    "\n",
    "# Drop unwanted features\n",
    "test.drop(['Name','Age','Ticket','Cabin','SibSp','Parch','Fare','PassengerId'],axis=1,inplace=True)\n",
    "\n",
    "# Converting String Values into Numeric \n",
    "test['Sex'].replace(['male','female'],[0,1],inplace=True)\n",
    "test['Embarked'].replace(['S','C','Q'],[0,1,2],inplace=True)\n",
    "test['Initial'].replace(['Mr','Mrs','Miss','Master','Other'],[0,1,2,3,4],inplace=True)\n",
    "\n",
    "test.head(2)"
   ]
  },
  {
   "cell_type": "code",
   "execution_count": 41,
   "metadata": {
    "execution": {
     "iopub.execute_input": "2020-11-29T16:04:45.553574Z",
     "iopub.status.busy": "2020-11-29T16:04:45.552445Z",
     "iopub.status.idle": "2020-11-29T16:04:45.926146Z",
     "shell.execute_reply": "2020-11-29T16:04:45.925213Z"
    },
    "papermill": {
     "duration": 0.450708,
     "end_time": "2020-11-29T16:04:45.926278",
     "exception": false,
     "start_time": "2020-11-29T16:04:45.475570",
     "status": "completed"
    },
    "tags": []
   },
   "outputs": [],
   "source": [
    "test_Survived = pd.Series(ensemble.predict(test), name=\"Survived\")\n",
    "results = pd.concat([IDtest,test_Survived],axis=1)\n",
    "results.to_csv(\"predictions.csv\",index=False)"
   ]
  },
  {
   "cell_type": "code",
   "execution_count": 42,
   "metadata": {
    "execution": {
     "iopub.execute_input": "2020-11-29T16:04:46.074624Z",
     "iopub.status.busy": "2020-11-29T16:04:46.073807Z",
     "iopub.status.idle": "2020-11-29T16:04:47.590568Z",
     "shell.execute_reply": "2020-11-29T16:04:47.591132Z"
    },
    "papermill": {
     "duration": 1.596699,
     "end_time": "2020-11-29T16:04:47.591303",
     "exception": false,
     "start_time": "2020-11-29T16:04:45.994604",
     "status": "completed"
    },
    "tags": []
   },
   "outputs": [
    {
     "data": {
      "image/png": "[encoded data removed]",
      "text/plain": [
       "<Figure size 432x432 with 1 Axes>"
      ]
     },
     "metadata": {
      "needs_background": "light"
     },
     "output_type": "display_data"
    }
   ],
   "source": [
    "f,ax=plt.subplots(1,1,figsize=(6,6))\n",
    "model=RandomForestClassifier(n_estimators=500,random_state=0)\n",
    "model.fit(X,Y)\n",
    "pd.Series(model.feature_importances_,X.columns).sort_values(ascending=True).plot.barh(width=0.8,ax=ax)\n",
    "ax.set_title('Feature Importance in Random Forests')\n",
    "plt.show()"
   ]
  },
  {
   "cell_type": "code",
   "execution_count": null,
   "metadata": {
    "papermill": {
     "duration": 0.067077,
     "end_time": "2020-11-29T16:04:47.726089",
     "exception": false,
     "start_time": "2020-11-29T16:04:47.659012",
     "status": "completed"
    },
    "tags": []
   },
   "outputs": [],
   "source": []
  }
 ],
 "metadata": {
  "kernelspec": {
   "display_name": "Python 3",
   "language": "python",
   "name": "python3"
  },
  "language_info": {
   "codemirror_mode": {
    "name": "ipython",
    "version": 3
   },
   "file_extension": ".py",
   "mimetype": "text/x-python",
   "name": "python",
   "nbconvert_exporter": "python",
   "pygments_lexer": "ipython3",
   "version": "3.7.6"
  },
  "papermill": {
   "duration": 148.159716,
   "end_time": "2020-11-29T16:04:47.902355",
   "environment_variables": {},
   "exception": null,
   "input_path": "__notebook__.ipynb",
   "output_path": "__notebook__.ipynb",
   "parameters": {},
   "start_time": "2020-11-29T16:02:19.742639",
   "version": "2.1.0"
  }
 },
 "nbformat": 4,
 "nbformat_minor": 4
}
